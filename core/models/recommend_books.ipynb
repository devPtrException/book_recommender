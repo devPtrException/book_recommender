{
 "cells": [
  {
   "cell_type": "code",
   "execution_count": 17,
   "metadata": {},
   "outputs": [],
   "source": [
    "import numpy as np\n",
    "import pandas as pd\n"
   ]
  },
  {
   "cell_type": "code",
   "execution_count": 19,
   "metadata": {},
   "outputs": [
    {
     "name": "stderr",
     "output_type": "stream",
     "text": [
      "/tmp/ipykernel_483638/1615894012.py:1: DtypeWarning: Columns (3) have mixed types. Specify dtype option on import or set low_memory=False.\n",
      "  books = pd.read_csv(\n"
     ]
    },
    {
     "data": {
      "text/html": [
       "<div>\n",
       "<style scoped>\n",
       "    .dataframe tbody tr th:only-of-type {\n",
       "        vertical-align: middle;\n",
       "    }\n",
       "\n",
       "    .dataframe tbody tr th {\n",
       "        vertical-align: top;\n",
       "    }\n",
       "\n",
       "    .dataframe thead th {\n",
       "        text-align: right;\n",
       "    }\n",
       "</style>\n",
       "<table border=\"1\" class=\"dataframe\">\n",
       "  <thead>\n",
       "    <tr style=\"text-align: right;\">\n",
       "      <th></th>\n",
       "      <th>ISBN</th>\n",
       "      <th>Book-Title</th>\n",
       "      <th>Book-Author</th>\n",
       "      <th>Year-Of-Publication</th>\n",
       "      <th>Publisher</th>\n",
       "      <th>Image-URL-S</th>\n",
       "      <th>Image-URL-M</th>\n",
       "      <th>Image-URL-L</th>\n",
       "    </tr>\n",
       "  </thead>\n",
       "  <tbody>\n",
       "    <tr>\n",
       "      <th>0</th>\n",
       "      <td>0195153448</td>\n",
       "      <td>Classical Mythology</td>\n",
       "      <td>Mark P. O. Morford</td>\n",
       "      <td>2002</td>\n",
       "      <td>Oxford University Press</td>\n",
       "      <td>http://images.amazon.com/images/P/0195153448.0...</td>\n",
       "      <td>http://images.amazon.com/images/P/0195153448.0...</td>\n",
       "      <td>http://images.amazon.com/images/P/0195153448.0...</td>\n",
       "    </tr>\n",
       "    <tr>\n",
       "      <th>1</th>\n",
       "      <td>0002005018</td>\n",
       "      <td>Clara Callan</td>\n",
       "      <td>Richard Bruce Wright</td>\n",
       "      <td>2001</td>\n",
       "      <td>HarperFlamingo Canada</td>\n",
       "      <td>http://images.amazon.com/images/P/0002005018.0...</td>\n",
       "      <td>http://images.amazon.com/images/P/0002005018.0...</td>\n",
       "      <td>http://images.amazon.com/images/P/0002005018.0...</td>\n",
       "    </tr>\n",
       "  </tbody>\n",
       "</table>\n",
       "</div>"
      ],
      "text/plain": [
       "         ISBN           Book-Title           Book-Author Year-Of-Publication  \\\n",
       "0  0195153448  Classical Mythology    Mark P. O. Morford                2002   \n",
       "1  0002005018         Clara Callan  Richard Bruce Wright                2001   \n",
       "\n",
       "                 Publisher                                        Image-URL-S  \\\n",
       "0  Oxford University Press  http://images.amazon.com/images/P/0195153448.0...   \n",
       "1    HarperFlamingo Canada  http://images.amazon.com/images/P/0002005018.0...   \n",
       "\n",
       "                                         Image-URL-M  \\\n",
       "0  http://images.amazon.com/images/P/0195153448.0...   \n",
       "1  http://images.amazon.com/images/P/0002005018.0...   \n",
       "\n",
       "                                         Image-URL-L  \n",
       "0  http://images.amazon.com/images/P/0195153448.0...  \n",
       "1  http://images.amazon.com/images/P/0002005018.0...  "
      ]
     },
     "execution_count": 19,
     "metadata": {},
     "output_type": "execute_result"
    }
   ],
   "source": [
    "books = pd.read_csv(\n",
    "    \"../data/dataset_books.csv\",\n",
    "    encoding=\"latin-1\",\n",
    "    on_bad_lines=\"skip\",\n",
    "    # sep=\";\",\n",
    "    # delimiter=\";\"\n",
    "    # error_bad_lines=False,\n",
    ")\n",
    "\n",
    "\n",
    "books.shape\n",
    "\n",
    "\n",
    "books.head(2)\n"
   ]
  },
  {
   "cell_type": "code",
   "execution_count": null,
   "metadata": {},
   "outputs": [],
   "source": [
    "books.columns\n",
    "\n",
    "books.columns = books.columns.str.strip()\n",
    "\n",
    "\n",
    "books = books[\n",
    "    [\n",
    "        \"ISBN\",\n",
    "        \"Book-Title\",\n",
    "        \"Book-Author\",\n",
    "        \"Year-Of-Publication\",\n",
    "        \"Publisher\",\n",
    "    ]\n",
    "]\n",
    "\n",
    "\n",
    "books.rename(\n",
    "    columns={\n",
    "        \"ISBN\": \"ISBN\",\n",
    "        \"Book-Title\": \"title\",\n",
    "        \"Book-Author\": \"author\",\n",
    "        \"Year-Of-Publication\": \"yop\",\n",
    "        \"Publisher\": \"publisher\",\n",
    "    },\n",
    "    inplace=True,\n",
    ")\n",
    "\n",
    "books.head()\n"
   ]
  },
  {
   "cell_type": "code",
   "execution_count": null,
   "metadata": {},
   "outputs": [],
   "source": [
    "print(books.columns.tolist())\n",
    "for col in books.columns:\n",
    "    print(repr(col))\n"
   ]
  },
  {
   "cell_type": "code",
   "execution_count": 20,
   "metadata": {},
   "outputs": [
    {
     "data": {
      "text/html": [
       "<div>\n",
       "<style scoped>\n",
       "    .dataframe tbody tr th:only-of-type {\n",
       "        vertical-align: middle;\n",
       "    }\n",
       "\n",
       "    .dataframe tbody tr th {\n",
       "        vertical-align: top;\n",
       "    }\n",
       "\n",
       "    .dataframe thead th {\n",
       "        text-align: right;\n",
       "    }\n",
       "</style>\n",
       "<table border=\"1\" class=\"dataframe\">\n",
       "  <thead>\n",
       "    <tr style=\"text-align: right;\">\n",
       "      <th></th>\n",
       "      <th>User-ID</th>\n",
       "      <th>Location</th>\n",
       "      <th>Age</th>\n",
       "    </tr>\n",
       "  </thead>\n",
       "  <tbody>\n",
       "    <tr>\n",
       "      <th>0</th>\n",
       "      <td>1</td>\n",
       "      <td>nyc, new york, usa</td>\n",
       "      <td>NaN</td>\n",
       "    </tr>\n",
       "    <tr>\n",
       "      <th>1</th>\n",
       "      <td>2</td>\n",
       "      <td>stockton, california, usa</td>\n",
       "      <td>18.0</td>\n",
       "    </tr>\n",
       "  </tbody>\n",
       "</table>\n",
       "</div>"
      ],
      "text/plain": [
       "   User-ID                   Location   Age\n",
       "0        1         nyc, new york, usa   NaN\n",
       "1        2  stockton, california, usa  18.0"
      ]
     },
     "execution_count": 20,
     "metadata": {},
     "output_type": "execute_result"
    }
   ],
   "source": [
    "users = pd.read_csv(\n",
    "    \"../data/dataset_users.csv\",\n",
    "    on_bad_lines=\"skip\",\n",
    "    encoding=\"latin-1\",\n",
    ")\n",
    "\n",
    "users.head(2)\n",
    "# users.columns\n"
   ]
  },
  {
   "cell_type": "code",
   "execution_count": null,
   "metadata": {},
   "outputs": [],
   "source": [
    "users.rename(\n",
    "    columns={\n",
    "        \"User-ID\": \"user_id\",\n",
    "        \"Location\": \"location\",\n",
    "        \"Age\": \"age\",\n",
    "    },\n",
    "    inplace=True,\n",
    ")\n",
    "\n",
    "users.head(2)\n"
   ]
  },
  {
   "cell_type": "code",
   "execution_count": null,
   "metadata": {},
   "outputs": [],
   "source": [
    "ratings = pd.read_csv(\n",
    "    \"../data/dataset_ratings.csv\",\n",
    "    on_bad_lines=\"skip\",\n",
    "    encoding=\"latin-1\",\n",
    ")\n",
    "\n",
    "\n",
    "ratings.head(2)\n"
   ]
  },
  {
   "cell_type": "code",
   "execution_count": null,
   "metadata": {},
   "outputs": [],
   "source": [
    "ratings.columns\n",
    "\n",
    "\n",
    "ratings.rename(\n",
    "    columns={\n",
    "        \"User-ID\": \"user_id\",\n",
    "        \"ISBN\": \"ISBN\",\n",
    "        \"Book-Rating\": \"rating\",\n",
    "    },\n",
    "    inplace=True,\n",
    ")\n"
   ]
  },
  {
   "cell_type": "code",
   "execution_count": null,
   "metadata": {},
   "outputs": [],
   "source": [
    "print(books.shape)\n",
    "print(users.shape)\n",
    "print(ratings.shape)\n"
   ]
  },
  {
   "cell_type": "code",
   "execution_count": null,
   "metadata": {},
   "outputs": [],
   "source": [
    "ratings.head()\n",
    "\n",
    "uid_high_ratings = ratings[\"user_id\"].value_counts() > 200\n",
    "# ratings[ratings[\"user_id\"].value_counts() > 200]\n",
    "\n",
    "# ratings[ratings[\"user_id\"]== 11676].head()\n"
   ]
  },
  {
   "cell_type": "code",
   "execution_count": null,
   "metadata": {},
   "outputs": [],
   "source": [
    "y = uid_high_ratings[uid_high_ratings].index\n",
    "y\n"
   ]
  },
  {
   "cell_type": "code",
   "execution_count": null,
   "metadata": {},
   "outputs": [],
   "source": [
    "ratings = ratings[ratings[\"user_id\"].isin(y)]\n",
    "ratings\n"
   ]
  },
  {
   "cell_type": "code",
   "execution_count": null,
   "metadata": {},
   "outputs": [],
   "source": [
    "# ratings.head()\n",
    "\n",
    "ratings_with_books = ratings.merge(books, on=\"ISBN\")\n",
    "ratings_with_books.shape\n",
    "\n",
    "ratings_with_books.groupby(\"title\")\n"
   ]
  },
  {
   "cell_type": "code",
   "execution_count": null,
   "metadata": {},
   "outputs": [],
   "source": [
    "number_of_ratings = (\n",
    "    ratings_with_books.groupby(\"title\")[\"rating\"]\n",
    "    .count()\n",
    "    .reset_index()\n",
    "    # .rename(\n",
    "    #     columns={\"ratings\": \"number_of_ratings\"},\n",
    "    #     # inplace=True,\n",
    "    # )\n",
    ")\n"
   ]
  },
  {
   "cell_type": "code",
   "execution_count": null,
   "metadata": {},
   "outputs": [],
   "source": [
    "number_of_ratings.rename(\n",
    "    columns={\"ratings\": \"number_of_ratings\"},\n",
    "    inplace=True,\n",
    ")\n",
    "\n",
    "print(number_of_ratings)\n"
   ]
  },
  {
   "cell_type": "code",
   "execution_count": null,
   "metadata": {},
   "outputs": [],
   "source": [
    "final_rating = ratings_with_books.merge(number_of_ratings, on=\"title\")\n",
    "final_rating.head()\n"
   ]
  },
  {
   "cell_type": "code",
   "execution_count": null,
   "metadata": {},
   "outputs": [],
   "source": [
    "final_rating = final_rating[final_rating[\"rating_y\"] >= 50]\n",
    "\n",
    "final_rating.head()\n"
   ]
  },
  {
   "cell_type": "code",
   "execution_count": null,
   "metadata": {},
   "outputs": [
    {
     "ename": "NameError",
     "evalue": "name 'final_rating' is not defined",
     "output_type": "error",
     "traceback": [
      "\u001b[31m---------------------------------------------------------------------------\u001b[39m",
      "\u001b[31mNameError\u001b[39m                                 Traceback (most recent call last)",
      "\u001b[36mCell\u001b[39m\u001b[36m \u001b[39m\u001b[32mIn[14]\u001b[39m\u001b[32m, line 1\u001b[39m\n\u001b[32m----> \u001b[39m\u001b[32m1\u001b[39m \u001b[43mfinal_rating\u001b[49m.drop_duplicates([\u001b[33m\"\u001b[39m\u001b[33muser_id\u001b[39m\u001b[33m\"\u001b[39m, \u001b[33m\"\u001b[39m\u001b[33mtitle\u001b[39m\u001b[33m\"\u001b[39m], inplace=\u001b[38;5;28;01mTrue\u001b[39;00m)\n\u001b[32m      3\u001b[39m book_pivot = final_rating.pivot_table(\n\u001b[32m      4\u001b[39m     columns=\u001b[33m\"\u001b[39m\u001b[33muser_id\u001b[39m\u001b[33m\"\u001b[39m,\n\u001b[32m      5\u001b[39m     index=\u001b[33m\"\u001b[39m\u001b[33mtitle\u001b[39m\u001b[33m\"\u001b[39m,\n\u001b[32m      6\u001b[39m     values=\u001b[33m\"\u001b[39m\u001b[33mrating_y\u001b[39m\u001b[33m\"\u001b[39m,\n\u001b[32m      7\u001b[39m )\n\u001b[32m     10\u001b[39m book_pivot.head()\n",
      "\u001b[31mNameError\u001b[39m: name 'final_rating' is not defined"
     ]
    }
   ],
   "source": [
    "final_rating.drop_duplicates([\"user_id\", \"title\"], inplace=True)\n",
    "\n",
    "book_pivot = final_rating.pivot_table(\n",
    "    columns=\"user_id\",\n",
    "    index=\"title\",\n",
    "    values=\"rating_y\",\n",
    ")\n",
    "\n",
    "\n",
    "book_pivot.head()\n"
   ]
  },
  {
   "cell_type": "code",
   "execution_count": null,
   "metadata": {},
   "outputs": [],
   "source": [
    "# import seaborn as sns\n",
    "#\n",
    "#\n",
    "# sns.scatterplot(book_pivot)\n",
    "\n",
    "\n",
    "book_pivot.fillna(0, inplace=True)\n",
    "book_pivot.head()\n"
   ]
  },
  {
   "cell_type": "code",
   "execution_count": null,
   "metadata": {},
   "outputs": [
    {
     "ename": "NameError",
     "evalue": "name 'book_pivot' is not defined",
     "output_type": "error",
     "traceback": [
      "\u001b[31m---------------------------------------------------------------------------\u001b[39m",
      "\u001b[31mNameError\u001b[39m                                 Traceback (most recent call last)",
      "\u001b[36mCell\u001b[39m\u001b[36m \u001b[39m\u001b[32mIn[13]\u001b[39m\u001b[32m, line 3\u001b[39m\n\u001b[32m      1\u001b[39m \u001b[38;5;28;01mfrom\u001b[39;00m\u001b[38;5;250m \u001b[39m\u001b[34;01mscipy\u001b[39;00m\u001b[34;01m.\u001b[39;00m\u001b[34;01msparse\u001b[39;00m\u001b[38;5;250m \u001b[39m\u001b[38;5;28;01mimport\u001b[39;00m csr_matrix\n\u001b[32m----> \u001b[39m\u001b[32m3\u001b[39m book_sparse = csr_matrix(\u001b[43mbook_pivot\u001b[49m)\n\u001b[32m      6\u001b[39m book_pivot.to_csv(\u001b[33m\"\u001b[39m\u001b[33mbook_pivot.csv\u001b[39m\u001b[33m\"\u001b[39m)\n\u001b[32m      7\u001b[39m \u001b[38;5;28mtype\u001b[39m(book_sparse)\n",
      "\u001b[31mNameError\u001b[39m: name 'book_pivot' is not defined"
     ]
    }
   ],
   "source": [
    "from scipy.sparse import csr_matrix\n",
    "\n",
    "book_sparse = csr_matrix(book_pivot)\n",
    "\n",
    "\n",
    "book_pivot.to_csv(\"../models/book_pivot.csv\")\n",
    "type(book_sparse)\n"
   ]
  },
  {
   "cell_type": "code",
   "execution_count": null,
   "metadata": {},
   "outputs": [
    {
     "ename": "NameError",
     "evalue": "name 'book_sparse' is not defined",
     "output_type": "error",
     "traceback": [
      "\u001b[31m---------------------------------------------------------------------------\u001b[39m",
      "\u001b[31mNameError\u001b[39m                                 Traceback (most recent call last)",
      "\u001b[36mCell\u001b[39m\u001b[36m \u001b[39m\u001b[32mIn[12]\u001b[39m\u001b[32m, line 5\u001b[39m\n\u001b[32m      2\u001b[39m \u001b[38;5;28;01mimport\u001b[39;00m\u001b[38;5;250m \u001b[39m\u001b[34;01mjoblib\u001b[39;00m\n\u001b[32m      4\u001b[39m model = NearestNeighbors(algorithm=\u001b[33m\"\u001b[39m\u001b[33mbrute\u001b[39m\u001b[33m\"\u001b[39m)\n\u001b[32m----> \u001b[39m\u001b[32m5\u001b[39m model.fit(\u001b[43mbook_sparse\u001b[49m)\n\u001b[32m      8\u001b[39m np.where(book_pivot.index == \u001b[32m237\u001b[39m)\n\u001b[32m     10\u001b[39m \u001b[38;5;66;03m# save model\u001b[39;00m\n",
      "\u001b[31mNameError\u001b[39m: name 'book_sparse' is not defined"
     ]
    }
   ],
   "source": [
    "from sklearn.neighbors import NearestNeighbors\n",
    "import joblib\n",
    "\n",
    "model = NearestNeighbors(algorithm=\"brute\")\n",
    "model.fit(book_sparse)\n",
    "\n",
    "\n",
    "np.where(book_pivot.index == 237)\n",
    "\n",
    "# save model\n",
    "joblib.dump(model, \"knn_model.pkl\")\n"
   ]
  },
  {
   "cell_type": "code",
   "execution_count": null,
   "metadata": {},
   "outputs": [],
   "source": [
    "book_index = 237\n",
    "\n",
    "distances, suggestions = model.kneighbors(\n",
    "    book_pivot.iloc[book_index, :].values.reshape(1, -1)\n",
    ")\n",
    "\n",
    "\n",
    "# print(book_pivot)\n",
    "print(suggestions)\n",
    "print(distances)\n"
   ]
  },
  {
   "cell_type": "code",
   "execution_count": null,
   "metadata": {},
   "outputs": [],
   "source": [
    "book_pivot.index[book_index]  # suggestions\n"
   ]
  },
  {
   "cell_type": "code",
   "execution_count": null,
   "metadata": {},
   "outputs": [],
   "source": [
    "for i in range(len(suggestions)):\n",
    "    print(book_pivot.index[suggestions[i]])\n"
   ]
  },
  {
   "cell_type": "code",
   "execution_count": null,
   "metadata": {},
   "outputs": [],
   "source": [
    "np.where(book_pivot.index == \"Animal Farm\")[0][0]\n"
   ]
  },
  {
   "cell_type": "code",
   "execution_count": null,
   "metadata": {},
   "outputs": [],
   "source": [
    "def recommend_book(book_name):\n",
    "    book_id = np.where(book_pivot.index == book_name)[0][0]\n",
    "\n",
    "    distances, suggestions = model.kneighbors(\n",
    "        book_pivot.iloc[book_id, :].values.reshape(1, -1)\n",
    "    )\n",
    "\n",
    "    # for i in range(len(suggestions)):\n",
    "    #     if i != 0:\n",
    "    #         print(f\"The suggestions for {book_name}({book_id}) are :\\n\")\n",
    "    #         print(book_pivot.index[suggestions[i]])\n",
    "    #     else:\n",
    "    #         print(\"None Found\")\n",
    "\n",
    "    print(f\"The suggestions for {book_name}({book_id}) are :\\n\")\n",
    "\n",
    "    for idx in suggestions[0][1:]:  # skip index 0 (the book itself)\n",
    "        print(book_pivot.index[idx])\n",
    "\n",
    "\n",
    "# recommend_book(\"Animal Farm\")\n"
   ]
  },
  {
   "cell_type": "code",
   "execution_count": null,
   "metadata": {},
   "outputs": [],
   "source": [
    "recommend_book(\"Harry Potter and the Chamber of Secrets (Book 2)\")\n"
   ]
  },
  {
   "cell_type": "code",
   "execution_count": null,
   "metadata": {},
   "outputs": [],
   "source": []
  }
 ],
 "metadata": {
  "kernelspec": {
   "display_name": ".venv",
   "language": "python",
   "name": "python3"
  },
  "language_info": {
   "codemirror_mode": {
    "name": "ipython",
    "version": 3
   },
   "file_extension": ".py",
   "mimetype": "text/x-python",
   "name": "python",
   "nbconvert_exporter": "python",
   "pygments_lexer": "ipython3",
   "version": "3.13.4"
  }
 },
 "nbformat": 4,
 "nbformat_minor": 2
}
